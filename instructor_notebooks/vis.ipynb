{
 "cells": [
  {
   "cell_type": "code",
   "execution_count": 1,
   "metadata": {},
   "outputs": [],
   "source": [
    "import pandas as pd\n",
    "import matplotlib.pyplot as plt\n",
    "%matplotlib inline"
   ]
  },
  {
   "cell_type": "code",
   "execution_count": 2,
   "metadata": {},
   "outputs": [],
   "source": [
    "df = pd.read_csv(\"data/SAFI_results.csv\")"
   ]
  },
  {
   "cell_type": "code",
   "execution_count": 3,
   "metadata": {},
   "outputs": [
    {
     "data": {
      "text/html": [
       "<div>\n",
       "<style scoped>\n",
       "    .dataframe tbody tr th:only-of-type {\n",
       "        vertical-align: middle;\n",
       "    }\n",
       "\n",
       "    .dataframe tbody tr th {\n",
       "        vertical-align: top;\n",
       "    }\n",
       "\n",
       "    .dataframe thead th {\n",
       "        text-align: right;\n",
       "    }\n",
       "</style>\n",
       "<table border=\"1\" class=\"dataframe\">\n",
       "  <thead>\n",
       "    <tr style=\"text-align: right;\">\n",
       "      <th></th>\n",
       "      <th>Column1</th>\n",
       "      <th>A01_interview_date</th>\n",
       "      <th>A03_quest_no</th>\n",
       "      <th>A04_start</th>\n",
       "      <th>A05_end</th>\n",
       "      <th>A06_province</th>\n",
       "      <th>A07_district</th>\n",
       "      <th>A08_ward</th>\n",
       "      <th>A09_village</th>\n",
       "      <th>A11_years_farm</th>\n",
       "      <th>...</th>\n",
       "      <th>F13_du_look_aftr_cows</th>\n",
       "      <th>F_liv_count</th>\n",
       "      <th>G01_no_meals</th>\n",
       "      <th>_members_count</th>\n",
       "      <th>_note</th>\n",
       "      <th>gps:Accuracy</th>\n",
       "      <th>gps:Altitude</th>\n",
       "      <th>gps:Latitude</th>\n",
       "      <th>gps:Longitude</th>\n",
       "      <th>instanceID</th>\n",
       "    </tr>\n",
       "  </thead>\n",
       "  <tbody>\n",
       "    <tr>\n",
       "      <th>0</th>\n",
       "      <td>0</td>\n",
       "      <td>17/11/2016</td>\n",
       "      <td>1</td>\n",
       "      <td>2017-03-23T09:49:57.000Z</td>\n",
       "      <td>2017-04-02T17:29:08.000Z</td>\n",
       "      <td>Province1</td>\n",
       "      <td>District1</td>\n",
       "      <td>Ward2</td>\n",
       "      <td>Village2</td>\n",
       "      <td>11</td>\n",
       "      <td>...</td>\n",
       "      <td>no</td>\n",
       "      <td>1</td>\n",
       "      <td>2</td>\n",
       "      <td>3</td>\n",
       "      <td>NaN</td>\n",
       "      <td>14.0</td>\n",
       "      <td>698</td>\n",
       "      <td>-19.112259</td>\n",
       "      <td>33.483456</td>\n",
       "      <td>uuid:ec241f2c-0609-46ed-b5e8-fe575f6cefef</td>\n",
       "    </tr>\n",
       "    <tr>\n",
       "      <th>1</th>\n",
       "      <td>1</td>\n",
       "      <td>17/11/2016</td>\n",
       "      <td>1</td>\n",
       "      <td>2017-04-02T09:48:16.000Z</td>\n",
       "      <td>2017-04-02T17:26:19.000Z</td>\n",
       "      <td>Province1</td>\n",
       "      <td>District1</td>\n",
       "      <td>Ward2</td>\n",
       "      <td>Village2</td>\n",
       "      <td>2</td>\n",
       "      <td>...</td>\n",
       "      <td>no</td>\n",
       "      <td>3</td>\n",
       "      <td>2</td>\n",
       "      <td>7</td>\n",
       "      <td>NaN</td>\n",
       "      <td>19.0</td>\n",
       "      <td>690</td>\n",
       "      <td>-19.112477</td>\n",
       "      <td>33.483416</td>\n",
       "      <td>uuid:099de9c9-3e5e-427b-8452-26250e840d6e</td>\n",
       "    </tr>\n",
       "    <tr>\n",
       "      <th>2</th>\n",
       "      <td>2</td>\n",
       "      <td>17/11/2016</td>\n",
       "      <td>3</td>\n",
       "      <td>2017-04-02T14:35:26.000Z</td>\n",
       "      <td>2017-04-02T17:26:53.000Z</td>\n",
       "      <td>Province1</td>\n",
       "      <td>District1</td>\n",
       "      <td>Ward2</td>\n",
       "      <td>Village2</td>\n",
       "      <td>40</td>\n",
       "      <td>...</td>\n",
       "      <td>no</td>\n",
       "      <td>1</td>\n",
       "      <td>2</td>\n",
       "      <td>10</td>\n",
       "      <td>NaN</td>\n",
       "      <td>13.0</td>\n",
       "      <td>674</td>\n",
       "      <td>-19.112108</td>\n",
       "      <td>33.483450</td>\n",
       "      <td>uuid:193d7daf-9582-409b-bf09-027dd36f9007</td>\n",
       "    </tr>\n",
       "    <tr>\n",
       "      <th>3</th>\n",
       "      <td>3</td>\n",
       "      <td>17/11/2016</td>\n",
       "      <td>4</td>\n",
       "      <td>2017-04-02T14:55:18.000Z</td>\n",
       "      <td>2017-04-02T17:27:16.000Z</td>\n",
       "      <td>Province1</td>\n",
       "      <td>District1</td>\n",
       "      <td>Ward2</td>\n",
       "      <td>Village2</td>\n",
       "      <td>6</td>\n",
       "      <td>...</td>\n",
       "      <td>no</td>\n",
       "      <td>2</td>\n",
       "      <td>2</td>\n",
       "      <td>7</td>\n",
       "      <td>NaN</td>\n",
       "      <td>5.0</td>\n",
       "      <td>679</td>\n",
       "      <td>-19.112229</td>\n",
       "      <td>33.483424</td>\n",
       "      <td>uuid:148d1105-778a-4755-aa71-281eadd4a973</td>\n",
       "    </tr>\n",
       "    <tr>\n",
       "      <th>4</th>\n",
       "      <td>4</td>\n",
       "      <td>17/11/2016</td>\n",
       "      <td>5</td>\n",
       "      <td>2017-04-02T15:10:35.000Z</td>\n",
       "      <td>2017-04-02T17:27:35.000Z</td>\n",
       "      <td>Province1</td>\n",
       "      <td>District1</td>\n",
       "      <td>Ward2</td>\n",
       "      <td>Village2</td>\n",
       "      <td>18</td>\n",
       "      <td>...</td>\n",
       "      <td>no</td>\n",
       "      <td>4</td>\n",
       "      <td>2</td>\n",
       "      <td>7</td>\n",
       "      <td>NaN</td>\n",
       "      <td>10.0</td>\n",
       "      <td>689</td>\n",
       "      <td>-19.112217</td>\n",
       "      <td>33.483425</td>\n",
       "      <td>uuid:2c867811-9696-4966-9866-f35c3e97d02d</td>\n",
       "    </tr>\n",
       "  </tbody>\n",
       "</table>\n",
       "<p>5 rows × 55 columns</p>\n",
       "</div>"
      ],
      "text/plain": [
       "   Column1 A01_interview_date  A03_quest_no                 A04_start  \\\n",
       "0        0         17/11/2016             1  2017-03-23T09:49:57.000Z   \n",
       "1        1         17/11/2016             1  2017-04-02T09:48:16.000Z   \n",
       "2        2         17/11/2016             3  2017-04-02T14:35:26.000Z   \n",
       "3        3         17/11/2016             4  2017-04-02T14:55:18.000Z   \n",
       "4        4         17/11/2016             5  2017-04-02T15:10:35.000Z   \n",
       "\n",
       "                    A05_end A06_province A07_district A08_ward A09_village  \\\n",
       "0  2017-04-02T17:29:08.000Z    Province1    District1    Ward2    Village2   \n",
       "1  2017-04-02T17:26:19.000Z    Province1    District1    Ward2    Village2   \n",
       "2  2017-04-02T17:26:53.000Z    Province1    District1    Ward2    Village2   \n",
       "3  2017-04-02T17:27:16.000Z    Province1    District1    Ward2    Village2   \n",
       "4  2017-04-02T17:27:35.000Z    Province1    District1    Ward2    Village2   \n",
       "\n",
       "   A11_years_farm                    ...                      \\\n",
       "0              11                    ...                       \n",
       "1               2                    ...                       \n",
       "2              40                    ...                       \n",
       "3               6                    ...                       \n",
       "4              18                    ...                       \n",
       "\n",
       "  F13_du_look_aftr_cows F_liv_count  G01_no_meals _members_count _note  \\\n",
       "0                    no           1             2              3   NaN   \n",
       "1                    no           3             2              7   NaN   \n",
       "2                    no           1             2             10   NaN   \n",
       "3                    no           2             2              7   NaN   \n",
       "4                    no           4             2              7   NaN   \n",
       "\n",
       "  gps:Accuracy gps:Altitude  gps:Latitude gps:Longitude  \\\n",
       "0         14.0          698    -19.112259     33.483456   \n",
       "1         19.0          690    -19.112477     33.483416   \n",
       "2         13.0          674    -19.112108     33.483450   \n",
       "3          5.0          679    -19.112229     33.483424   \n",
       "4         10.0          689    -19.112217     33.483425   \n",
       "\n",
       "                                  instanceID  \n",
       "0  uuid:ec241f2c-0609-46ed-b5e8-fe575f6cefef  \n",
       "1  uuid:099de9c9-3e5e-427b-8452-26250e840d6e  \n",
       "2  uuid:193d7daf-9582-409b-bf09-027dd36f9007  \n",
       "3  uuid:148d1105-778a-4755-aa71-281eadd4a973  \n",
       "4  uuid:2c867811-9696-4966-9866-f35c3e97d02d  \n",
       "\n",
       "[5 rows x 55 columns]"
      ]
     },
     "execution_count": 3,
     "metadata": {},
     "output_type": "execute_result"
    }
   ],
   "source": [
    "df.head()"
   ]
  },
  {
   "cell_type": "code",
   "execution_count": 5,
   "metadata": {},
   "outputs": [
    {
     "data": {
      "text/plain": [
       "1.7404580152671756"
      ]
     },
     "execution_count": 5,
     "metadata": {},
     "output_type": "execute_result"
    }
   ],
   "source": [
    "df.C06_rooms.mean()"
   ]
  },
  {
   "cell_type": "code",
   "execution_count": 7,
   "metadata": {},
   "outputs": [
    {
     "data": {
      "text/plain": [
       "<matplotlib.axes._subplots.AxesSubplot at 0x2845b2aba20>"
      ]
     },
     "execution_count": 7,
     "metadata": {},
     "output_type": "execute_result"
    },
    {
     "data": {
      "image/png": "[encoded data removed]",
      "text/plain": [
       "<Figure size 432x288 with 1 Axes>"
      ]
     },
     "metadata": {},
     "output_type": "display_data"
    }
   ],
   "source": [
    "df.C06_rooms.hist(bins=4)"
   ]
  },
  {
   "cell_type": "code",
   "execution_count": 8,
   "metadata": {},
   "outputs": [
    {
     "data": {
      "text/plain": [
       "<matplotlib.axes._subplots.AxesSubplot at 0x2845edb25c0>"
      ]
     },
     "execution_count": 8,
     "metadata": {},
     "output_type": "execute_result"
    },
    {
     "data": {
      "image/png": "[encoded data removed]",
      "text/plain": [
       "<Figure size 432x288 with 1 Axes>"
      ]
     },
     "metadata": {},
     "output_type": "display_data"
    }
   ],
   "source": [
    "df.C06_rooms.hist(bins=40)"
   ]
  },
  {
   "cell_type": "code",
   "execution_count": 9,
   "metadata": {},
   "outputs": [
    {
     "data": {
      "text/plain": [
       "Index(['Column1', 'A01_interview_date', 'A03_quest_no', 'A04_start', 'A05_end',\n",
       "       'A06_province', 'A07_district', 'A08_ward', 'A09_village',\n",
       "       'A11_years_farm', 'A12_agr_assoc', 'B11_remittance_money',\n",
       "       'B16_years_liv', 'B17_parents_liv', 'B18_sp_parents_liv',\n",
       "       'B19_grand_liv', 'B20_sp_grand_liv', 'B_no_membrs',\n",
       "       'C01_respondent_roof_type', 'C02_respondent_wall_type',\n",
       "       'C02_respondent_wall_type_other', 'C03_respondent_floor_type',\n",
       "       'C04_window_type', 'C05_buildings_in_compound', 'C06_rooms',\n",
       "       'C07_other_buildings', 'D_plots_count', 'E01_water_use',\n",
       "       'E17_no_enough_water', 'E19_period_use', 'E20_exper_other',\n",
       "       'E21_other_meth', 'E23_memb_assoc', 'E24_resp_assoc', 'E25_fees_water',\n",
       "       'E26_affect_conflicts', 'E_no_group_count', 'E_yes_group_count',\n",
       "       'F04_need_money', 'F05_money_source_other', 'F06_crops_contr',\n",
       "       'F08_emply_lab', 'F09_du_labour', 'F10_liv_owned_other', 'F12_poultry',\n",
       "       'F13_du_look_aftr_cows', 'F_liv_count', 'G01_no_meals',\n",
       "       '_members_count', '_note', 'gps:Accuracy', 'gps:Altitude',\n",
       "       'gps:Latitude', 'gps:Longitude', 'instanceID'],\n",
       "      dtype='object')"
      ]
     },
     "execution_count": 9,
     "metadata": {},
     "output_type": "execute_result"
    }
   ],
   "source": [
    "df.columns"
   ]
  },
  {
   "cell_type": "code",
   "execution_count": 13,
   "metadata": {},
   "outputs": [
    {
     "data": {
      "text/plain": [
       "C02_respondent_wall_type\n",
       "burntbricks    67\n",
       "cement          1\n",
       "muddaub        46\n",
       "sunbricks      17\n",
       "Name: C01_respondent_roof_type, dtype: int64"
      ]
     },
     "execution_count": 13,
     "metadata": {},
     "output_type": "execute_result"
    }
   ],
   "source": [
    "df.groupby('C02_respondent_wall_type').C01_respondent_roof_type.count()"
   ]
  },
  {
   "cell_type": "code",
   "execution_count": 17,
   "metadata": {},
   "outputs": [
    {
     "data": {
      "text/plain": [
       "C02_respondent_wall_type\n",
       "burntbricks    AxesSubplot(0.125,0.125;0.775x0.755)\n",
       "cement         AxesSubplot(0.125,0.125;0.775x0.755)\n",
       "muddaub        AxesSubplot(0.125,0.125;0.775x0.755)\n",
       "sunbricks      AxesSubplot(0.125,0.125;0.775x0.755)\n",
       "Name: C01_respondent_roof_type, dtype: object"
      ]
     },
     "execution_count": 17,
     "metadata": {},
     "output_type": "execute_result"
    },
    {
     "data": {
      "image/png": "[encoded data removed]",
      "text/plain": [
       "<Figure size 432x288 with 1 Axes>"
      ]
     },
     "metadata": {},
     "output_type": "display_data"
    }
   ],
   "source": [
    "df.groupby('C02_respondent_wall_type').C01_respondent_roof_type.hist()"
   ]
  },
  {
   "cell_type": "code",
   "execution_count": 24,
   "metadata": {},
   "outputs": [
    {
     "ename": "TypeError",
     "evalue": "scatter() missing 2 required positional arguments: 'x' and 'y'",
     "output_type": "error",
     "traceback": [
      "\u001b[1;31m---------------------------------------------------------------------------\u001b[0m",
      "\u001b[1;31mTypeError\u001b[0m                                 Traceback (most recent call last)",
      "\u001b[1;32m<ipython-input-24-69f4c2733b18>\u001b[0m in \u001b[0;36m<module>\u001b[1;34m()\u001b[0m\n\u001b[1;32m----> 1\u001b[1;33m \u001b[0mdf\u001b[0m\u001b[1;33m[\u001b[0m \u001b[1;33m[\u001b[0m\u001b[1;34m\"gps:Latitude\"\u001b[0m\u001b[1;33m,\u001b[0m \u001b[1;34m\"gps:Longitude\"\u001b[0m\u001b[1;33m]\u001b[0m \u001b[1;33m]\u001b[0m\u001b[1;33m.\u001b[0m\u001b[0mplot\u001b[0m\u001b[1;33m.\u001b[0m\u001b[0mscatter\u001b[0m\u001b[1;33m(\u001b[0m\u001b[1;33m)\u001b[0m\u001b[1;33m\u001b[0m\u001b[0m\n\u001b[0m",
      "\u001b[1;31mTypeError\u001b[0m: scatter() missing 2 required positional arguments: 'x' and 'y'"
     ]
    }
   ],
   "source": [
    "df[ [\"gps:Latitude\", \"gps:Longitude\"] ].plot.scatter()"
   ]
  },
  {
   "cell_type": "code",
   "execution_count": 35,
   "metadata": {},
   "outputs": [
    {
     "data": {
      "text/plain": [
       "<matplotlib.axes._subplots.AxesSubplot at 0x2846ac22550>"
      ]
     },
     "execution_count": 35,
     "metadata": {},
     "output_type": "execute_result"
    },
    {
     "data": {
      "image/png": "[encoded data removed]",
      "text/plain": [
       "<Figure size 288x288 with 2 Axes>"
      ]
     },
     "metadata": {},
     "output_type": "display_data"
    }
   ],
   "source": [
    "df.plot.scatter(x='gps:Latitude', y='gps:Longitude', c='gps:Altitude', colormap=\"viridis\", figsize=[4,4])"
   ]
  },
  {
   "cell_type": "code",
   "execution_count": null,
   "metadata": {},
   "outputs": [],
   "source": [
    "# %load code/plots\n",
    "# Make a scatter plot of 'A11_years_farm' vs 'B16_years_liv' and color the points\n",
    "# by 'C05_buildings_in_compound'\n",
    "#\n",
    "\n",
    "\n",
    "# Make a bar plot of the mean number of rooms per wall type\n",
    "\n",
    "# extension: try by wall and roof type?\n"
   ]
  },
  {
   "cell_type": "code",
   "execution_count": 50,
   "metadata": {},
   "outputs": [
    {
     "data": {
      "text/plain": [
       "C02_respondent_wall_type\n",
       "burntbricks    2.104478\n",
       "cement         3.000000\n",
       "muddaub        1.260870\n",
       "sunbricks      1.529412\n",
       "Name: C06_rooms, dtype: float64"
      ]
     },
     "execution_count": 50,
     "metadata": {},
     "output_type": "execute_result"
    }
   ],
   "source": [
    "df.groupby(\"C02_respondent_wall_type\")[\"C06_rooms\"].mean()"
   ]
  },
  {
   "cell_type": "code",
   "execution_count": 56,
   "metadata": {},
   "outputs": [
    {
     "data": {
      "image/png": "[encoded data removed]",
      "text/plain": [
       "<Figure size 432x288 with 1 Axes>"
      ]
     },
     "metadata": {},
     "output_type": "display_data"
    }
   ],
   "source": [
    "ax = df.groupby(\"C02_respondent_wall_type\")[\"C06_rooms\"].mean().plot(kind=\"barh\")"
   ]
  },
  {
   "cell_type": "code",
   "execution_count": 78,
   "metadata": {},
   "outputs": [
    {
     "data": {
      "image/png": "[encoded data removed]",
      "text/plain": [
       "<Figure size 432x288 with 1 Axes>"
      ]
     },
     "metadata": {},
     "output_type": "display_data"
    }
   ],
   "source": [
    "import seaborn as sns\n",
    "sns.set(font_scale=1.5)\n",
    "\n",
    "ax = df.groupby(\"C02_respondent_wall_type\")[\"C06_rooms\"].mean().plot(kind=\"barh\", \n",
    "                                                                     title=\"Title of the plot\",\n",
    "                                                                     xlim=[0,10])\n",
    "\n",
    "plt.savefig(\"rooms.png\")\n",
    "plt.savefig(\"rooms.pdf\", bbox_inches=\"tight\", dpi=600)\n",
    "plt.show()"
   ]
  },
  {
   "cell_type": "code",
   "execution_count": 80,
   "metadata": {},
   "outputs": [
    {
     "data": {
      "text/plain": [
       "<matplotlib.axes._subplots.AxesSubplot at 0x2846e096240>"
      ]
     },
     "execution_count": 80,
     "metadata": {},
     "output_type": "execute_result"
    },
    {
     "data": {
      "image/png": "[encoded data removed]",
      "text/plain": [
       "<Figure size 432x288 with 1 Axes>"
      ]
     },
     "metadata": {},
     "output_type": "display_data"
    }
   ],
   "source": [
    "sns.barplot(data=df, x=\"C01_respondent_roof_type\", y=\"C06_rooms\")"
   ]
  },
  {
   "cell_type": "code",
   "execution_count": 52,
   "metadata": {},
   "outputs": [
    {
     "data": {
      "text/plain": [
       "C01_respondent_roof_type  C02_respondent_wall_type\n",
       "grass                     burntbricks                 1.681818\n",
       "                          muddaub                     1.214286\n",
       "                          sunbricks                   1.111111\n",
       "mabatipitched             burntbricks                 2.166667\n",
       "                          muddaub                     2.000000\n",
       "                          sunbricks                   2.000000\n",
       "mabatisloping             burntbricks                 2.333333\n",
       "                          cement                      3.000000\n",
       "                          muddaub                     1.000000\n",
       "                          sunbricks                   2.000000\n",
       "Name: C06_rooms, dtype: float64"
      ]
     },
     "execution_count": 52,
     "metadata": {},
     "output_type": "execute_result"
    }
   ],
   "source": [
    "df.groupby([\"C01_respondent_roof_type\", \"C02_respondent_wall_type\"])[\"C06_rooms\"].mean()"
   ]
  },
  {
   "cell_type": "code",
   "execution_count": 54,
   "metadata": {},
   "outputs": [
    {
     "data": {
      "text/plain": [
       "<matplotlib.axes._subplots.AxesSubplot at 0x2846c1290b8>"
      ]
     },
     "execution_count": 54,
     "metadata": {},
     "output_type": "execute_result"
    },
    {
     "data": {
      "image/png": "[encoded data removed]",
      "text/plain": [
       "<Figure size 432x288 with 1 Axes>"
      ]
     },
     "metadata": {},
     "output_type": "display_data"
    }
   ],
   "source": [
    "df.groupby([\"C01_respondent_roof_type\", \"C02_respondent_wall_type\"])[\"C06_rooms\"].mean().plot(kind=\"barh\")"
   ]
  },
  {
   "cell_type": "code",
   "execution_count": 36,
   "metadata": {},
   "outputs": [
    {
     "data": {
      "text/plain": [
       "Index(['Column1', 'A01_interview_date', 'A03_quest_no', 'A04_start', 'A05_end',\n",
       "       'A06_province', 'A07_district', 'A08_ward', 'A09_village',\n",
       "       'A11_years_farm', 'A12_agr_assoc', 'B11_remittance_money',\n",
       "       'B16_years_liv', 'B17_parents_liv', 'B18_sp_parents_liv',\n",
       "       'B19_grand_liv', 'B20_sp_grand_liv', 'B_no_membrs',\n",
       "       'C01_respondent_roof_type', 'C02_respondent_wall_type',\n",
       "       'C02_respondent_wall_type_other', 'C03_respondent_floor_type',\n",
       "       'C04_window_type', 'C05_buildings_in_compound', 'C06_rooms',\n",
       "       'C07_other_buildings', 'D_plots_count', 'E01_water_use',\n",
       "       'E17_no_enough_water', 'E19_period_use', 'E20_exper_other',\n",
       "       'E21_other_meth', 'E23_memb_assoc', 'E24_resp_assoc', 'E25_fees_water',\n",
       "       'E26_affect_conflicts', 'E_no_group_count', 'E_yes_group_count',\n",
       "       'F04_need_money', 'F05_money_source_other', 'F06_crops_contr',\n",
       "       'F08_emply_lab', 'F09_du_labour', 'F10_liv_owned_other', 'F12_poultry',\n",
       "       'F13_du_look_aftr_cows', 'F_liv_count', 'G01_no_meals',\n",
       "       '_members_count', '_note', 'gps:Accuracy', 'gps:Altitude',\n",
       "       'gps:Latitude', 'gps:Longitude', 'instanceID'],\n",
       "      dtype='object')"
      ]
     },
     "execution_count": 36,
     "metadata": {},
     "output_type": "execute_result"
    }
   ],
   "source": [
    "df.columns"
   ]
  },
  {
   "cell_type": "code",
   "execution_count": null,
   "metadata": {},
   "outputs": [],
   "source": []
  }
 ],
 "metadata": {
  "kernelspec": {
   "display_name": "Python 3",
   "language": "python",
   "name": "python3"
  },
  "language_info": {
   "codemirror_mode": {
    "name": "ipython",
    "version": 3
   },
   "file_extension": ".py",
   "mimetype": "text/x-python",
   "name": "python",
   "nbconvert_exporter": "python",
   "pygments_lexer": "ipython3",
   "version": "3.6.5"
  }
 },
 "nbformat": 4,
 "nbformat_minor": 2
}
